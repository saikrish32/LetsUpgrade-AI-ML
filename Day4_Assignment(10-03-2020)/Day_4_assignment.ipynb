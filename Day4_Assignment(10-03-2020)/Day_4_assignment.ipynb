{
 "cells": [
  {
   "cell_type": "markdown",
   "metadata": {},
   "source": [
    "# Question 1 :\n",
    "### Research on whether addition, subtraction, multiplication, division, floor division, and modulo operations be performed on complex numbers. Based on your study, implement a Python program to demonstrate these operations.\n"
   ]
  },
  {
   "cell_type": "code",
   "execution_count": 8,
   "metadata": {},
   "outputs": [
    {
     "name": "stdout",
     "output_type": "stream",
     "text": [
      "Adittion of (1+3j) and (2+5j) is (3+8j)\n",
      "subtraction of (1+3j) from (2+5j) is (-1-2j)\n",
      "multiplication of (1+3j) and (2+5j) is (-13+11j)\n",
      "Division of (1+3j) by (2+5j) is (0.5862068965517241+0.03448275862068969j)\n",
      "modulus of (1+3j) is 3.1622776601683795 and modulus of (2+5j) is 5.385164807134504\n"
     ]
    }
   ],
   "source": [
    "a = 1 + 3j\n",
    "b = 2 + 5j\n",
    "\n",
    "# Addition\n",
    "print(\"Adittion of {} and {} is {}\".format(a,b,a+b))\n",
    "\n",
    "# subtraction\n",
    "print(\"subtraction of {} from {} is {}\".format(a,b,a-b))\n",
    "\n",
    "# multiplication\n",
    "print(\"multiplication of {} and {} is {}\".format(a,b,a*b))\n",
    "\n",
    "# division\n",
    "print(\"Division of {} by {} is {}\".format(a,b,a/b))\n",
    "\n",
    "# modulus operation\n",
    "print(\"modulus of {} is {} and modulus of {} is {}\".format(a,abs(a),b,abs(b)))"
   ]
  },
  {
   "cell_type": "markdown",
   "metadata": {},
   "source": [
    "# Question2\n",
    "### Research on range() functions and its parameters. Create a markdown cell and write in your own words (no copy-paste from google please) what you understand about it. Implement a small program of your choice on the same"
   ]
  },
  {
   "cell_type": "markdown",
   "metadata": {},
   "source": [
    "**---Range function has three parameters first one is a starting value means min value,second one is ending value means max value and the third one is a step size---**\n",
    "\n",
    "**If we give these three values then it gives the values from min value include to max value exclude with step size**\n",
    "\n",
    "**If we give single value it consider as max value second parameter and gives first parameter min value as zero by default and step size is equal to one**\n",
    "\n",
    "**If we give two parameters then it consider has min and max value and gives default step size is equal to one**"
   ]
  },
  {
   "cell_type": "code",
   "execution_count": 13,
   "metadata": {},
   "outputs": [
    {
     "name": "stdout",
     "output_type": "stream",
     "text": [
      "range(1, 4)\n",
      "<class 'range'>\n"
     ]
    }
   ],
   "source": [
    "# The type of range returns is range\n",
    "print(range(1,4,1))\n",
    "print(type(range(1,4,1)))"
   ]
  },
  {
   "cell_type": "markdown",
   "metadata": {},
   "source": [
    "# Question3\n",
    "### Consider two numbers. Perform their subtraction and if the result of subtraction is greater than 25, print their multiplication result else print their division result."
   ]
  },
  {
   "cell_type": "code",
   "execution_count": 16,
   "metadata": {},
   "outputs": [
    {
     "name": "stdout",
     "output_type": "stream",
     "text": [
      "200\n",
      "20\n",
      "Multiplication of 200 and 20 is 4000\n"
     ]
    }
   ],
   "source": [
    "num1 = int(input())\n",
    "num2 = int(input())\n",
    "\n",
    "# subtraction\n",
    "sub = num1 - num2\n",
    "\n",
    "if sub>25:\n",
    "    print(\"Multiplication of {} and {} is {}\".format(num1,num2,num1*num2))\n",
    "else:\n",
    "    print(\"Division of {} and {} is {}\".format(num1,num2,num1/num2))"
   ]
  },
  {
   "cell_type": "markdown",
   "metadata": {},
   "source": [
    "# Question 4:\n",
    "### Consider a list of 10 elements of integer values. If the number in the list is divisible by 2, print the result as \"square of that number minus 2\".\n"
   ]
  },
  {
   "cell_type": "code",
   "execution_count": 19,
   "metadata": {},
   "outputs": [
    {
     "name": "stdout",
     "output_type": "stream",
     "text": [
      "square of 2 minus 2 is 2\n",
      "square of 4 minus 2 is 14\n",
      "square of 6 minus 2 is 34\n",
      "square of 8 minus 2 is 62\n",
      "square of 10 minus 2 is 98\n"
     ]
    }
   ],
   "source": [
    "list_elements = list(range(1,11))\n",
    "\n",
    "for i in list_elements:\n",
    "    if i%2==0:\n",
    "        print(\"square of {} minus 2 is {}\".format(i,i**2-2))"
   ]
  },
  {
   "cell_type": "markdown",
   "metadata": {},
   "source": [
    "# Question 5:\n",
    "### Consider a list of 10 elements. Print all the elements in the list which are greater than 7 when that number is divided 2."
   ]
  },
  {
   "cell_type": "code",
   "execution_count": 20,
   "metadata": {},
   "outputs": [
    {
     "name": "stdout",
     "output_type": "stream",
     "text": [
      "The number 10 is greater than 7 and that is divided by 2.\n",
      "The number 12 is greater than 7 and that is divided by 2.\n"
     ]
    }
   ],
   "source": [
    "list_elements = [3,9,7,10,55,2,6,12,21,99]\n",
    "\n",
    "for i in list_elements:\n",
    "    if i>7 and i%2==0:\n",
    "        print(\"The number {} is greater than 7 and that is divided by 2.\".format(i))\n",
    "    "
   ]
  },
  {
   "cell_type": "code",
   "execution_count": null,
   "metadata": {},
   "outputs": [],
   "source": []
  },
  {
   "cell_type": "code",
   "execution_count": null,
   "metadata": {},
   "outputs": [],
   "source": []
  },
  {
   "cell_type": "code",
   "execution_count": null,
   "metadata": {},
   "outputs": [],
   "source": []
  }
 ],
 "metadata": {
  "kernelspec": {
   "display_name": "Python 3",
   "language": "python",
   "name": "python3"
  },
  "language_info": {
   "codemirror_mode": {
    "name": "ipython",
    "version": 3
   },
   "file_extension": ".py",
   "mimetype": "text/x-python",
   "name": "python",
   "nbconvert_exporter": "python",
   "pygments_lexer": "ipython3",
   "version": "3.7.6"
  }
 },
 "nbformat": 4,
 "nbformat_minor": 4
}
