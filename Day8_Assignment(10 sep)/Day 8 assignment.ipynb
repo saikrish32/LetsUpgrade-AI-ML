{
 "cells": [
  {
   "cell_type": "markdown",
   "metadata": {},
   "source": [
    "# question1\n",
    "### Recreate “NB 21 map, filter, lambda.ipynb” to try different variations or perform different calculations from the ones that are in the NB\n"
   ]
  },
  {
   "cell_type": "markdown",
   "metadata": {},
   "source": []
  },
  {
   "cell_type": "code",
   "execution_count": 2,
   "metadata": {},
   "outputs": [
    {
     "name": "stdout",
     "output_type": "stream",
     "text": [
      "125\n"
     ]
    }
   ],
   "source": [
    "# map(function, iterables)\n",
    "def cube(a):\n",
    "    return a**3\n",
    "x= cube(5)\n",
    "print(x)"
   ]
  },
  {
   "cell_type": "code",
   "execution_count": 11,
   "metadata": {},
   "outputs": [
    {
     "name": "stdout",
     "output_type": "stream",
     "text": [
      "[1, 4, 9, 16, 25]\n",
      "<class 'list'>\n",
      "[1, 4, 9, 16, 25]\n",
      "(1, 4, 9, 16, 25)\n",
      "{1, 4, 9, 16, 25}\n"
     ]
    }
   ],
   "source": [
    "# map(function, iterables)\n",
    "def sqr(a):\n",
    "    return a*a\n",
    "# your code goes here2\n",
    "x = list(map(sqr,[1,2,3,4,5]))\n",
    "print(x)\n",
    "print(type(x))\n",
    "print(list(x))\n",
    "print(tuple(x))\n",
    "print(set(x))"
   ]
  },
  {
   "cell_type": "code",
   "execution_count": 13,
   "metadata": {},
   "outputs": [
    {
     "name": "stdout",
     "output_type": "stream",
     "text": [
      "[6, 12, 18, 24]\n"
     ]
    }
   ],
   "source": [
    "# map(function, iterables)\n",
    "def mul(a,b,c):\n",
    "    return a*b*c\n",
    "# your code goes here3\n",
    "x = map(mul, [1,2,3,4], [2,2,2,2],[3,3,3,3] )\n",
    "print(list(x))"
   ]
  },
  {
   "cell_type": "code",
   "execution_count": 17,
   "metadata": {},
   "outputs": [
    {
     "name": "stdout",
     "output_type": "stream",
     "text": [
      "[6, 12, 18, 24]\n"
     ]
    }
   ],
   "source": [
    "# with lambda\n",
    "x = lambda a,b,c: a*b*c\n",
    "y = list(map(x,[1,2,3,4],[2,2,2,2],[3,3,3,3]))\n",
    "print(y)"
   ]
  },
  {
   "cell_type": "code",
   "execution_count": 18,
   "metadata": {},
   "outputs": [
    {
     "name": "stdout",
     "output_type": "stream",
     "text": [
      "<filter object at 0x000001872C019F48>\n",
      "<class 'filter'>\n",
      "[3, 4, 5]\n"
     ]
    }
   ],
   "source": [
    "# filter(function, iterables)\n",
    "def sqr(a):\n",
    "    if a>=3:\n",
    "        return a\n",
    "# your code goes here1.2\n",
    "x = filter( sqr, [1,2,3,4,5] )\n",
    "print(x)\n",
    "print(type(x))\n",
    "print(list(x))"
   ]
  },
  {
   "cell_type": "code",
   "execution_count": 24,
   "metadata": {},
   "outputs": [
    {
     "name": "stdout",
     "output_type": "stream",
     "text": [
      "enter factorial number : 5\n",
      "120\n"
     ]
    }
   ],
   "source": [
    "\n",
    "# reduce(function, iterables)\n",
    "from functools import reduce # its required here\n",
    "n = int(input(\"enter factorial number : \"))\n",
    "def fac(a,b):\n",
    "    return a*b\n",
    "# your code goes here1+5\n",
    "x = reduce(fac,list(range(1,n+1)))\n",
    "print(x)"
   ]
  },
  {
   "cell_type": "code",
   "execution_count": 25,
   "metadata": {},
   "outputs": [
    {
     "name": "stdout",
     "output_type": "stream",
     "text": [
      "14\n"
     ]
    }
   ],
   "source": [
    "# map and filter within reduce\n",
    "x = reduce(lambda x,y: x+y,  map(lambda x:x+x, filter(lambda x: x>=3, (1,2,3,4))))\n",
    "print(x)"
   ]
  },
  {
   "cell_type": "markdown",
   "metadata": {},
   "source": [
    "# question2\n",
    "### Recreate your own Python NB for “Classes and Objects” from the pdf provided namely “Classes&Objects.pdf”"
   ]
  },
  {
   "cell_type": "code",
   "execution_count": 26,
   "metadata": {},
   "outputs": [],
   "source": [
    "# creating classes\n",
    "class ClassName:\n",
    "    pass"
   ]
  },
  {
   "cell_type": "code",
   "execution_count": 38,
   "metadata": {},
   "outputs": [],
   "source": [
    "# creating instance objects\n",
    "# to create instance objects we use constructors in python\n",
    "class New_class:\n",
    "    def __init__(self,a,b):\n",
    "        self.a = a\n",
    "        self.b = b"
   ]
  },
  {
   "cell_type": "code",
   "execution_count": 40,
   "metadata": {},
   "outputs": [
    {
     "name": "stdout",
     "output_type": "stream",
     "text": [
      "1\n",
      "True\n",
      "None\n",
      "10\n",
      "None\n",
      "False\n"
     ]
    }
   ],
   "source": [
    "#creating object\n",
    "obj = New_class(1,2)\n",
    "# Accesing Attributes\n",
    "print(getattr(obj,'a'))\n",
    "print(hasattr(obj,'a'))\n",
    "print(setattr(obj,'b',10))\n",
    "print(obj.b)\n",
    "print(delattr(obj,'a'))\n",
    "\n",
    "print(hasattr(obj,'a'))"
   ]
  },
  {
   "cell_type": "code",
   "execution_count": 42,
   "metadata": {},
   "outputs": [
    {
     "name": "stdout",
     "output_type": "stream",
     "text": [
      "New_class destroyed\n",
      "New_class destroyed\n"
     ]
    }
   ],
   "source": [
    "# destructor __del__\n",
    "class New_class:\n",
    "    def __init__(self,a,b):\n",
    "        self.a = a\n",
    "        self.b = b\n",
    "    def __del__(self):\n",
    "        class_name = self.__class__.__name__\n",
    "        print(class_name,'destroyed')\n",
    "obj = New_class(1,2)\n",
    "del obj"
   ]
  },
  {
   "cell_type": "markdown",
   "metadata": {},
   "source": [
    "## Base overloading Methods\n",
    "#### __init__ is an constructor with any optional arguments\n",
    "#### __del__(self) destructor deletes object\n",
    "#### __repr__(self) evaluating string representation"
   ]
  },
  {
   "cell_type": "code",
   "execution_count": null,
   "metadata": {},
   "outputs": [],
   "source": []
  },
  {
   "cell_type": "code",
   "execution_count": null,
   "metadata": {},
   "outputs": [],
   "source": []
  },
  {
   "cell_type": "code",
   "execution_count": null,
   "metadata": {},
   "outputs": [],
   "source": []
  },
  {
   "cell_type": "code",
   "execution_count": null,
   "metadata": {},
   "outputs": [],
   "source": []
  }
 ],
 "metadata": {
  "kernelspec": {
   "display_name": "Python 3",
   "language": "python",
   "name": "python3"
  },
  "language_info": {
   "codemirror_mode": {
    "name": "ipython",
    "version": 3
   },
   "file_extension": ".py",
   "mimetype": "text/x-python",
   "name": "python",
   "nbconvert_exporter": "python",
   "pygments_lexer": "ipython3",
   "version": "3.7.6"
  }
 },
 "nbformat": 4,
 "nbformat_minor": 4
}
