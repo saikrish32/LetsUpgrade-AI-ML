{
 "cells": [
  {
   "cell_type": "markdown",
   "metadata": {},
   "source": [
    "# Question 1:\n",
    "### Write a program to copy the contents of one file to another using a for loop. (Don’t use built-in copy function)"
   ]
  },
  {
   "cell_type": "code",
   "execution_count": 6,
   "metadata": {},
   "outputs": [],
   "source": [
    "file = open(\"file1.txt\",'w')\n",
    "\n",
    "lines_of_text = [\"One line of text here\\n\", \"and another line here\\n\", \"and yet another here\\n\", \"and so on and so forth\"] \n",
    "file.writelines(lines_of_text)\n",
    "file.close() "
   ]
  },
  {
   "cell_type": "markdown",
   "metadata": {},
   "source": [
    "## copying file1 information to file2"
   ]
  },
  {
   "cell_type": "code",
   "execution_count": 7,
   "metadata": {},
   "outputs": [],
   "source": [
    "new_file = open('file2.txt','w')\n",
    "file = open(\"file1.txt\",'r')\n",
    "for line in file:\n",
    "    new_file.writelines(line)\n",
    "new_file.close()\n",
    "file.close()"
   ]
  },
  {
   "cell_type": "markdown",
   "metadata": {},
   "source": [
    "## Showing file2 information"
   ]
  },
  {
   "cell_type": "code",
   "execution_count": 8,
   "metadata": {},
   "outputs": [
    {
     "name": "stdout",
     "output_type": "stream",
     "text": [
      "One line of text here\n",
      "\n",
      "and another line here\n",
      "\n",
      "and yet another here\n",
      "\n",
      "and so on and so forth\n"
     ]
    }
   ],
   "source": [
    "new_file = open('file2.txt','r')\n",
    "for i in new_file:\n",
    "    print(i)\n",
    "new_file.close()"
   ]
  },
  {
   "cell_type": "markdown",
   "metadata": {},
   "source": [
    "# Question 2:\n",
    "### Write a Python program to find maximum and minimum values in the dictionary. Do not use built-in min and max functions."
   ]
  },
  {
   "cell_type": "markdown",
   "metadata": {},
   "source": [
    "#### I write a programme where the key and values both are numbers then it finds the minimum and maximum value in the entire dictionary"
   ]
  },
  {
   "cell_type": "code",
   "execution_count": 23,
   "metadata": {},
   "outputs": [
    {
     "name": "stdout",
     "output_type": "stream",
     "text": [
      "Minimum value present in the dictionary is : -22\n",
      "Maximum value present in the dictionary is : 33\n"
     ]
    }
   ],
   "source": [
    "dic = {1:12,2:22,3:33,-22:25}\n",
    "max(dic)\n",
    "low,high = dic[1],dic[2]\n",
    "for i,j in dic.items():\n",
    "    if i < j :\n",
    "        if i < low:\n",
    "            low = i\n",
    "        if j > high:\n",
    "            high = j\n",
    "    elif i > j:\n",
    "        if i > high:\n",
    "            high = i\n",
    "        if j < low:\n",
    "            low = j\n",
    "print(\"Minimum value present in the dictionary is :\",low)\n",
    "print(\"Maximum value present in the dictionary is :\",high)\n"
   ]
  },
  {
   "cell_type": "code",
   "execution_count": null,
   "metadata": {},
   "outputs": [],
   "source": []
  }
 ],
 "metadata": {
  "kernelspec": {
   "display_name": "Python 3",
   "language": "python",
   "name": "python3"
  }
 },
 "nbformat": 4,
 "nbformat_minor": 4
}
