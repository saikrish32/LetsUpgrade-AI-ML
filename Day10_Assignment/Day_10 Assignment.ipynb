{
 "cells": [
  {
   "cell_type": "markdown",
   "metadata": {},
   "source": [
    "# Question 1:\n",
    "### Create an element-wise comparison (greater, greater_equal, less and less_equal) of two given arrays"
   ]
  },
  {
   "cell_type": "code",
   "execution_count": 2,
   "metadata": {},
   "outputs": [
    {
     "name": "stdout",
     "output_type": "stream",
     "text": [
      "greater comparision b/w 2 arrays-------- [False False  True False]\n",
      "\n",
      "greater_equal comparision b/w 2 arrays------ [False  True  True False]\n",
      "\n",
      "less comparision b/w 2 arrays------ [ True False False  True]\n",
      "\n",
      "less_equal comparision b/w 2 arrays------ [ True  True False  True]\n"
     ]
    }
   ],
   "source": [
    "import numpy as np\n",
    "a = np.array([1,3,5,7])\n",
    "b = np.array([2,3,4,9])\n",
    "\n",
    "# greater\n",
    "print(\"greater comparision b/w 2 arrays--------\",a>b)\n",
    "print()\n",
    "\n",
    "# greater_equal\n",
    "print(\"greater_equal comparision b/w 2 arrays------\",a>=b)\n",
    "print()\n",
    "\n",
    "# less\n",
    "print(\"less comparision b/w 2 arrays------\",a<b)\n",
    "print()\n",
    "\n",
    "# less_equal\n",
    "print(\"less_equal comparision b/w 2 arrays------\",a<=b)"
   ]
  },
  {
   "cell_type": "markdown",
   "metadata": {},
   "source": [
    "# Question 2:\n",
    "### Write a NumPy program to create an array of 10 zeros,10 ones, 10 fives\n"
   ]
  },
  {
   "cell_type": "code",
   "execution_count": 3,
   "metadata": {},
   "outputs": [
    {
     "name": "stdout",
     "output_type": "stream",
     "text": [
      "[0 0 0 0 0 0 0 0 0 0]\n",
      "[1 1 1 1 1 1 1 1 1 1]\n",
      "[5 5 5 5 5 5 5 5 5 5]\n"
     ]
    }
   ],
   "source": [
    "zeros_10 = np.zeros(10,dtype=int)\n",
    "print(zeros_10)\n",
    "ones_10 = np.ones(10,dtype=int)\n",
    "print(ones_10)\n",
    "fives_10 = np.full((10, ), 5)\n",
    "print(fives_10)"
   ]
  },
  {
   "cell_type": "markdown",
   "metadata": {},
   "source": [
    "# Question 3:\n",
    "### Write a NumPy program to compute sum of all elements, sum of each column and sum of each row of a given array"
   ]
  },
  {
   "cell_type": "code",
   "execution_count": 4,
   "metadata": {},
   "outputs": [
    {
     "name": "stdout",
     "output_type": "stream",
     "text": [
      "sum of the each three rows\n",
      "row 1 sum is 6\n",
      "row 2 sum is 9\n",
      "row 3 sum is 12\n",
      "sum of the each three columns\n",
      "column 1 sum is 6\n",
      "column 2 sum is 9\n",
      "column 3 sum is 12\n"
     ]
    }
   ],
   "source": [
    "array_1 = np.array([[1,2,3],[2,3,4],[3,4,5]])\n",
    "print(\"sum of the each three rows\")\n",
    "for i in range(len(array_1)):\n",
    "    print(\"row {} sum is {}\".format(i+1,sum(array_1[i])))\n",
    "\n",
    "print(\"sum of the each three columns\")\n",
    "for i in range(len(array_1)):\n",
    "    total = 0\n",
    "    for j in range(len(array_1)):\n",
    "        total += array_1[i][j]\n",
    "    print(\"column {} sum is {}\".format(i+1,total))\n",
    "        "
   ]
  },
  {
   "cell_type": "markdown",
   "metadata": {},
   "source": [
    "# Question 4:\n",
    "### Write a NumPy program to add, subtract, multiply, divide arguments element-wise.\n"
   ]
  },
  {
   "cell_type": "code",
   "execution_count": 5,
   "metadata": {},
   "outputs": [
    {
     "name": "stdout",
     "output_type": "stream",
     "text": [
      "Addition of [1 2 3 4 5] with [1 2 3 4 5] is: [ 2  4  6  8 10]\n",
      "\n",
      "subtraction of [1 2 3 4 5] from [1 2 3 4 5] is: [0 0 0 0 0]\n",
      "\n",
      "multiplication of [1 2 3 4 5] with [1 2 3 4 5] is: [ 1  4  9 16 25]\n",
      "\n",
      "division of [1 2 3 4 5] by [1 2 3 4 5] is: [1. 1. 1. 1. 1.]\n"
     ]
    }
   ],
   "source": [
    "a = np.array([1,2,3,4,5])\n",
    "\n",
    "# add\n",
    "print(\"Addition of {} with {} is: {}\".format(a,a,a+a))\n",
    "print()\n",
    "\n",
    "#sub\n",
    "print(\"subtraction of {} from {} is: {}\".format(a,a,a-a))\n",
    "print()\n",
    "\n",
    "#mul\n",
    "print(\"multiplication of {} with {} is: {}\".format(a,a,a*a))\n",
    "print()\n",
    "\n",
    "#div\n",
    "print(\"division of {} by {} is: {}\".format(a,a,a/a))\n"
   ]
  },
  {
   "cell_type": "markdown",
   "metadata": {},
   "source": [
    "# Question 5:\n",
    "### Write a NumPy program to compute the trigonometric sine, cosine and tangent array of angles given in degree.\n"
   ]
  },
  {
   "cell_type": "code",
   "execution_count": 6,
   "metadata": {},
   "outputs": [
    {
     "name": "stdout",
     "output_type": "stream",
     "text": [
      "enter value in terms of degrees : 45\n",
      "\n",
      "sine value of given 45 degree is : 0.7071067813133527 \n",
      "\n",
      "cosine value of given 45 degree is : 0.7071067810597423 \n",
      "\n",
      "tangent value of given 45 degree is : 1.0000000003586593 \n"
     ]
    }
   ],
   "source": [
    "import math\n",
    "\n",
    "x = int(input(\"enter value in terms of degrees : \"))\n",
    "print()\n",
    "\n",
    "print(\"sine value of given {} degree is : {} \".format(x,math.sin(x/57.2957795)))\n",
    "print()\n",
    "\n",
    "print(\"cosine value of given {} degree is : {} \".format(x,math.cos(x/57.2957795)))\n",
    "print()\n",
    "\n",
    "\n",
    "print(\"tangent value of given {} degree is : {} \".format(x,math.tan(x/57.2957795)))"
   ]
  },
  {
   "cell_type": "markdown",
   "metadata": {},
   "source": [
    "# Question 6:\n",
    "### Write a Pandas program to create and display a DataFrame from a specified dictionary data which has the index labels"
   ]
  },
  {
   "cell_type": "code",
   "execution_count": 11,
   "metadata": {},
   "outputs": [
    {
     "data": {
      "text/html": [
       "<div>\n",
       "<style scoped>\n",
       "    .dataframe tbody tr th:only-of-type {\n",
       "        vertical-align: middle;\n",
       "    }\n",
       "\n",
       "    .dataframe tbody tr th {\n",
       "        vertical-align: top;\n",
       "    }\n",
       "\n",
       "    .dataframe thead th {\n",
       "        text-align: right;\n",
       "    }\n",
       "</style>\n",
       "<table border=\"1\" class=\"dataframe\">\n",
       "  <thead>\n",
       "    <tr style=\"text-align: right;\">\n",
       "      <th></th>\n",
       "      <th>name</th>\n",
       "      <th>marks</th>\n",
       "    </tr>\n",
       "  </thead>\n",
       "  <tbody>\n",
       "    <tr>\n",
       "      <th>0</th>\n",
       "      <td>sai</td>\n",
       "      <td>40</td>\n",
       "    </tr>\n",
       "    <tr>\n",
       "      <th>1</th>\n",
       "      <td>krish</td>\n",
       "      <td>75</td>\n",
       "    </tr>\n",
       "    <tr>\n",
       "      <th>2</th>\n",
       "      <td>deeksh</td>\n",
       "      <td>100</td>\n",
       "    </tr>\n",
       "  </tbody>\n",
       "</table>\n",
       "</div>"
      ],
      "text/plain": [
       "     name  marks\n",
       "0     sai     40\n",
       "1   krish     75\n",
       "2  deeksh    100"
      ]
     },
     "execution_count": 11,
     "metadata": {},
     "output_type": "execute_result"
    }
   ],
   "source": [
    "import pandas as pd\n",
    "students = {'name':['sai','krish','deeksh'],'marks':[40,75,100]}\n",
    "x = pd.DataFrame(students)\n",
    "x"
   ]
  },
  {
   "cell_type": "markdown",
   "metadata": {},
   "source": [
    "# Question 7:\n",
    "### Write a Pandas program to select the 'name' and 'score' columns from the following DataFrame.\n"
   ]
  },
  {
   "cell_type": "code",
   "execution_count": 12,
   "metadata": {},
   "outputs": [
    {
     "data": {
      "text/plain": [
       "0       sai\n",
       "1     krish\n",
       "2    deeksh\n",
       "Name: name, dtype: object"
      ]
     },
     "execution_count": 12,
     "metadata": {},
     "output_type": "execute_result"
    }
   ],
   "source": [
    "# select name column\n",
    "x['name']"
   ]
  },
  {
   "cell_type": "code",
   "execution_count": 13,
   "metadata": {},
   "outputs": [
    {
     "data": {
      "text/plain": [
       "0     40\n",
       "1     75\n",
       "2    100\n",
       "Name: marks, dtype: int64"
      ]
     },
     "execution_count": 13,
     "metadata": {},
     "output_type": "execute_result"
    }
   ],
   "source": [
    "# select score column\n",
    "x['marks']"
   ]
  },
  {
   "cell_type": "markdown",
   "metadata": {},
   "source": [
    "# Question 8:\n",
    "### Write a Pandas program to join the two given dataframes along rows and assign all data."
   ]
  },
  {
   "cell_type": "code",
   "execution_count": 17,
   "metadata": {},
   "outputs": [
    {
     "data": {
      "text/html": [
       "<div>\n",
       "<style scoped>\n",
       "    .dataframe tbody tr th:only-of-type {\n",
       "        vertical-align: middle;\n",
       "    }\n",
       "\n",
       "    .dataframe tbody tr th {\n",
       "        vertical-align: top;\n",
       "    }\n",
       "\n",
       "    .dataframe thead th {\n",
       "        text-align: right;\n",
       "    }\n",
       "</style>\n",
       "<table border=\"1\" class=\"dataframe\">\n",
       "  <thead>\n",
       "    <tr style=\"text-align: right;\">\n",
       "      <th></th>\n",
       "      <th>name</th>\n",
       "      <th>marks</th>\n",
       "    </tr>\n",
       "  </thead>\n",
       "  <tbody>\n",
       "    <tr>\n",
       "      <th>0</th>\n",
       "      <td>sai</td>\n",
       "      <td>40</td>\n",
       "    </tr>\n",
       "    <tr>\n",
       "      <th>1</th>\n",
       "      <td>krish</td>\n",
       "      <td>75</td>\n",
       "    </tr>\n",
       "    <tr>\n",
       "      <th>2</th>\n",
       "      <td>deeksh</td>\n",
       "      <td>100</td>\n",
       "    </tr>\n",
       "    <tr>\n",
       "      <th>0</th>\n",
       "      <td>sai</td>\n",
       "      <td>40</td>\n",
       "    </tr>\n",
       "    <tr>\n",
       "      <th>1</th>\n",
       "      <td>krish</td>\n",
       "      <td>75</td>\n",
       "    </tr>\n",
       "    <tr>\n",
       "      <th>2</th>\n",
       "      <td>deeksh</td>\n",
       "      <td>100</td>\n",
       "    </tr>\n",
       "  </tbody>\n",
       "</table>\n",
       "</div>"
      ],
      "text/plain": [
       "     name  marks\n",
       "0     sai     40\n",
       "1   krish     75\n",
       "2  deeksh    100\n",
       "0     sai     40\n",
       "1   krish     75\n",
       "2  deeksh    100"
      ]
     },
     "execution_count": 17,
     "metadata": {},
     "output_type": "execute_result"
    }
   ],
   "source": [
    "pd.concat([x,x])"
   ]
  },
  {
   "cell_type": "markdown",
   "metadata": {},
   "source": [
    "# Question 9:\n",
    "### Write a Pandas program to detect missing values of a given DataFrame. Display True or False"
   ]
  },
  {
   "cell_type": "code",
   "execution_count": 18,
   "metadata": {},
   "outputs": [
    {
     "data": {
      "text/html": [
       "<div>\n",
       "<style scoped>\n",
       "    .dataframe tbody tr th:only-of-type {\n",
       "        vertical-align: middle;\n",
       "    }\n",
       "\n",
       "    .dataframe tbody tr th {\n",
       "        vertical-align: top;\n",
       "    }\n",
       "\n",
       "    .dataframe thead th {\n",
       "        text-align: right;\n",
       "    }\n",
       "</style>\n",
       "<table border=\"1\" class=\"dataframe\">\n",
       "  <thead>\n",
       "    <tr style=\"text-align: right;\">\n",
       "      <th></th>\n",
       "      <th>name</th>\n",
       "      <th>marks</th>\n",
       "    </tr>\n",
       "  </thead>\n",
       "  <tbody>\n",
       "    <tr>\n",
       "      <th>0</th>\n",
       "      <td>False</td>\n",
       "      <td>False</td>\n",
       "    </tr>\n",
       "    <tr>\n",
       "      <th>1</th>\n",
       "      <td>False</td>\n",
       "      <td>False</td>\n",
       "    </tr>\n",
       "    <tr>\n",
       "      <th>2</th>\n",
       "      <td>False</td>\n",
       "      <td>False</td>\n",
       "    </tr>\n",
       "  </tbody>\n",
       "</table>\n",
       "</div>"
      ],
      "text/plain": [
       "    name  marks\n",
       "0  False  False\n",
       "1  False  False\n",
       "2  False  False"
      ]
     },
     "execution_count": 18,
     "metadata": {},
     "output_type": "execute_result"
    }
   ],
   "source": [
    "x.isnull()"
   ]
  },
  {
   "cell_type": "markdown",
   "metadata": {},
   "source": [
    "# Question 10:\n",
    "### Write a Pandas program to create and display a one-dimensional array-like object containing an array of data."
   ]
  },
  {
   "cell_type": "code",
   "execution_count": 19,
   "metadata": {},
   "outputs": [
    {
     "data": {
      "text/plain": [
       "array([['sai', 40],\n",
       "       ['krish', 75],\n",
       "       ['deeksh', 100]], dtype=object)"
      ]
     },
     "execution_count": 19,
     "metadata": {},
     "output_type": "execute_result"
    }
   ],
   "source": [
    "x.to_numpy()"
   ]
  },
  {
   "cell_type": "code",
   "execution_count": null,
   "metadata": {},
   "outputs": [],
   "source": []
  }
 ],
 "metadata": {
  "kernelspec": {
   "display_name": "Python 3",
   "language": "python",
   "name": "python3"
  }
 },
 "nbformat": 4,
 "nbformat_minor": 4
}
