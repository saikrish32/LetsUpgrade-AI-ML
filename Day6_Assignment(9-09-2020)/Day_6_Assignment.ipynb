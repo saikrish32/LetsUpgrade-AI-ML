{
 "cells": [
  {
   "cell_type": "markdown",
   "metadata": {},
   "source": [
    "# Question 1\n",
    "### Assuming that we have some email addresses in the \"username@companyname.com\" format, please\n",
    "### write a program to print the company name of a given email address. Both user names and company names are composed of letters only.\n",
    "### Input Format:\n",
    "### The first line of the input contains an email address.\n",
    "### Output Format:\n",
    "### Print the company name in a single line.\n",
    "### Example;\n",
    "### Input:\n",
    "### john@google.com\n",
    "### Output:\n",
    "### google.\n"
   ]
  },
  {
   "cell_type": "code",
   "execution_count": 5,
   "metadata": {},
   "outputs": [
    {
     "name": "stdout",
     "output_type": "stream",
     "text": [
      "john@google.com\n",
      "google\n"
     ]
    }
   ],
   "source": [
    "email = input().split('@')[1].split('.')[0]\n",
    "print(email)"
   ]
  },
  {
   "cell_type": "markdown",
   "metadata": {},
   "source": [
    "# Question 2 :\n",
    "### Write a program that accepts a comma-separated sequence of words as input and prints the words in a comma-separated sequence after sorting them alphabetically.\n",
    "### Input Format:\n",
    "### The first line of input contains words separated by the comma.\n",
    "### Output Format:\n",
    "### Print the sorted words separated by the comma.\n",
    "### Example:\n",
    "### Input:\n",
    "### without,hello,bag,world\n",
    "### Output:\n",
    "### bag,hello,without,world"
   ]
  },
  {
   "cell_type": "code",
   "execution_count": 12,
   "metadata": {},
   "outputs": [
    {
     "name": "stdout",
     "output_type": "stream",
     "text": [
      "without,hello,bag,world\n",
      "bag,hello,without,world\n"
     ]
    }
   ],
   "source": [
    "words = input().split(',')\n",
    "words.sort()\n",
    "for i in words:\n",
    "    if i!=words[-1]:\n",
    "        print(i,end=\",\")\n",
    "    else:\n",
    "        print(i)"
   ]
  },
  {
   "cell_type": "markdown",
   "metadata": {},
   "source": [
    "# Question 3:\n",
    "### Create your own Jupyter Notebook for Sets. Reference link: https://www.w3schools.com/python/python_sets.asp\n"
   ]
  },
  {
   "cell_type": "markdown",
   "metadata": {},
   "source": [
    "**A set is a collection which is unordered and unindexed. In Python sets are written with curly brackets.**\n",
    "\n",
    "**once a set is created, you cannot change its items, but you can add new items.**\n",
    "\n",
    "**If the item to remove does not exist, remove() will raise an error.**"
   ]
  },
  {
   "cell_type": "code",
   "execution_count": 16,
   "metadata": {},
   "outputs": [
    {
     "name": "stdout",
     "output_type": "stream",
     "text": [
      "{1, 2, 'c', 'a', 3, 'b'}\n"
     ]
    }
   ],
   "source": [
    "# Join two sets\n",
    "set1 = {\"a\", \"b\" , \"c\",1,2}\n",
    "set2 = {1, 2, 3}\n",
    "\n",
    "set3 = set1.union(set2)\n",
    "print(set3)"
   ]
  },
  {
   "cell_type": "code",
   "execution_count": null,
   "metadata": {},
   "outputs": [],
   "source": [
    "# intersection()\tReturns a set, that is the intersection of two other sets\n",
    "set4 = set1.intersection(set2)"
   ]
  },
  {
   "cell_type": "code",
   "execution_count": null,
   "metadata": {},
   "outputs": [],
   "source": []
  },
  {
   "cell_type": "code",
   "execution_count": null,
   "metadata": {},
   "outputs": [],
   "source": []
  },
  {
   "cell_type": "markdown",
   "metadata": {},
   "source": [
    "# Question 4:\n",
    "### Given a list of n-1 numbers ranging from 1 to n, your task is to find the missing number. There are no duplicates.\n",
    "### Input Format:\n",
    "### The first line contains n-1 numbers with each number separated by a space.\n",
    "### Output Format:\n",
    "### Print the missing number\n",
    "### Example:\n",
    "### Input:\n",
    "### 1 2 4 6 3 7 8\n",
    "### Output:\n",
    "### 5\n",
    "### Explanation:\n",
    "### In the above list of numbers 5 is missing and hence 5 is the input"
   ]
  },
  {
   "cell_type": "code",
   "execution_count": 13,
   "metadata": {},
   "outputs": [
    {
     "name": "stdout",
     "output_type": "stream",
     "text": [
      "1 2 4 6 3 7 8\n",
      "5\n"
     ]
    }
   ],
   "source": [
    "numbers = list(map(int,input().split(' ')))\n",
    "numbers.sort()\n",
    "for i in range(numbers[0],numbers[-1]):\n",
    "    if i not in numbers:\n",
    "        print(i)"
   ]
  },
  {
   "cell_type": "markdown",
   "metadata": {},
   "source": [
    "# Question 5:\n",
    "### With a given list L, write a program to print this list L after removing all duplicate values with original order reserved.\n",
    "### Example:\n",
    "### If the input list is\n",
    "### 12 24 35 24 88 120 155 88 120 155\n",
    "### Then the output should be\n",
    "### 12 24 35 88 120 155\n",
    "### Explanation:\n",
    "### Third, the seventh and ninth element of the list L has been removed because it was already present.\n",
    "### Input Format:\n",
    "### In one line take the elements of the list L with each element separated by a space.\n",
    "### Output Format:\n",
    "### Print the elements of the modified list in one line with each element separated by a space.\n",
    "### Example:\n",
    "### Input:\n",
    "### 12 24 35 24\n",
    "### Output:\n",
    "### 12 24 35"
   ]
  },
  {
   "cell_type": "code",
   "execution_count": 14,
   "metadata": {},
   "outputs": [
    {
     "name": "stdout",
     "output_type": "stream",
     "text": [
      "12 24 35 24\n",
      "12 24 35 "
     ]
    }
   ],
   "source": [
    "l = list(map(int,input().split(' ')))\n",
    "new_l = []\n",
    "for i in l:\n",
    "    if i not in new_l:\n",
    "        print(i,end=\" \")\n",
    "        new_l.append(i)"
   ]
  },
  {
   "cell_type": "code",
   "execution_count": null,
   "metadata": {},
   "outputs": [],
   "source": []
  }
 ],
 "metadata": {
  "kernelspec": {
   "display_name": "Python 3",
   "language": "python",
   "name": "python3"
  },
  "language_info": {
   "codemirror_mode": {
    "name": "ipython",
    "version": 3
   },
   "file_extension": ".py",
   "mimetype": "text/x-python",
   "name": "python",
   "nbconvert_exporter": "python",
   "pygments_lexer": "ipython3",
   "version": "3.7.6"
  }
 },
 "nbformat": 4,
 "nbformat_minor": 4
}
