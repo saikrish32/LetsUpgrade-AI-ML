{
 "cells": [
  {
   "cell_type": "markdown",
   "metadata": {},
   "source": [
    "# Question 1\n",
    "## Write a program to subtract two complex numbers in Python."
   ]
  },
  {
   "cell_type": "code",
   "execution_count": 1,
   "metadata": {},
   "outputs": [
    {
     "name": "stdout",
     "output_type": "stream",
     "text": [
      "Subtraction of  (1+2j)  from  (5+5j)  is :  (-4-3j)\n"
     ]
    }
   ],
   "source": [
    "a = 1+2j\n",
    "b = 5+5j\n",
    "print(\"Subtraction of \",a,\" from \",b,\" is : \",a-b)"
   ]
  },
  {
   "cell_type": "markdown",
   "metadata": {},
   "source": [
    "# Question 2\n",
    "## Write a program to find the fourth root of a number"
   ]
  },
  {
   "cell_type": "code",
   "execution_count": 2,
   "metadata": {},
   "outputs": [
    {
     "name": "stdout",
     "output_type": "stream",
     "text": [
      "16\n",
      "The Fourth Root of  16  is :  2.0\n"
     ]
    }
   ],
   "source": [
    "number = int(input())\n",
    "print(\"The Fourth Root of \",number,\" is : \",number**(1/4))"
   ]
  },
  {
   "cell_type": "markdown",
   "metadata": {},
   "source": [
    "# Question 3\n",
    "## Write a program to swap two numbers in Python with the help of a temporary variable.\n"
   ]
  },
  {
   "cell_type": "code",
   "execution_count": 3,
   "metadata": {},
   "outputs": [
    {
     "name": "stdout",
     "output_type": "stream",
     "text": [
      "12\n",
      "20\n",
      "numbers before swap num1 is : 12 and num2 is 20\n",
      "numbers After swap num1 is : 20 and num2 is 20\n"
     ]
    }
   ],
   "source": [
    "num1 = int(input())\n",
    "num2 = int(input())\n",
    "print(\"numbers before swap num1 is : {} and num2 is {}\".format(num1,num2))\n",
    "\n",
    "temp = num2\n",
    "num1 = num2\n",
    "num2 = temp\n",
    "print(\"numbers After swap num1 is : {} and num2 is {}\".format(num1,num2))"
   ]
  },
  {
   "cell_type": "markdown",
   "metadata": {},
   "source": [
    "# Question4\n",
    "## Write a program to swap two numbers in Python without using a temporary variable"
   ]
  },
  {
   "cell_type": "code",
   "execution_count": 4,
   "metadata": {},
   "outputs": [
    {
     "name": "stdout",
     "output_type": "stream",
     "text": [
      "12\n",
      "20\n",
      "numbers before swap num1 is : 12 and num2 is 20\n",
      "numbers After swap num1 is : 20 and num2 is 12\n"
     ]
    }
   ],
   "source": [
    "num1 = int(input())\n",
    "num2 = int(input())\n",
    "print(\"numbers before swap num1 is : {} and num2 is {}\".format(num1,num2))\n",
    "\n",
    "num2 = num1 + num2\n",
    "num1 = num2 - num1\n",
    "num2 = num2 - num1\n",
    "print(\"numbers After swap num1 is : {} and num2 is {}\".format(num1,num2))"
   ]
  },
  {
   "cell_type": "markdown",
   "metadata": {},
   "source": [
    "# Question5\n",
    "## Write a program to convert Fahrenheit to kelvin and celsius both."
   ]
  },
  {
   "cell_type": "code",
   "execution_count": 6,
   "metadata": {},
   "outputs": [
    {
     "name": "stdout",
     "output_type": "stream",
     "text": [
      "1\n",
      "Celsius value of 1.0 F is : -17.22222222222222 C\n",
      "Kelvin value of 1.0 F is : -17.22222222222222 F\n"
     ]
    }
   ],
   "source": [
    "f = float(input())\n",
    "c = (f-32)*(5/9)\n",
    "k = c + 273.15\n",
    "print(\"Celsius value of {} F is : {} C\".format(f,c))\n",
    "print(\"Kelvin value of {} F is : {} F\".format(f,c))"
   ]
  },
  {
   "cell_type": "markdown",
   "metadata": {},
   "source": [
    "# Question6\n",
    "## Write a program to demonstrate all the available data types in Python. Hint: Use type() function"
   ]
  },
  {
   "cell_type": "code",
   "execution_count": 8,
   "metadata": {},
   "outputs": [
    {
     "name": "stdout",
     "output_type": "stream",
     "text": [
      "<class 'int'>\n",
      "<class 'float'>\n",
      "<class 'str'>\n",
      "<class 'list'>\n",
      "<class 'tuple'>\n",
      "<class 'set'>\n",
      "<class 'dict'>\n"
     ]
    }
   ],
   "source": [
    "# Integer\n",
    "x = 12\n",
    "print(type(x))\n",
    "\n",
    "# Float\n",
    "x = 12.0\n",
    "print(type(x))\n",
    "\n",
    "# string\n",
    "x = '12'\n",
    "print(type(x))\n",
    "\n",
    "# List\n",
    "x = [1,2]\n",
    "print(type(x))\n",
    "\n",
    "#tuple\n",
    "x = (1,2)\n",
    "print(type(x))\n",
    "\n",
    "#set\n",
    "x = {1,2}\n",
    "print(type(x))\n",
    "\n",
    "#dictionary\n",
    "x = {1:1}\n",
    "print(type(x))"
   ]
  },
  {
   "cell_type": "code",
   "execution_count": null,
   "metadata": {},
   "outputs": [],
   "source": []
  }
 ],
 "metadata": {
  "kernelspec": {
   "display_name": "Python 3",
   "language": "python",
   "name": "python3"
  },
  "language_info": {
   "codemirror_mode": {
    "name": "ipython",
    "version": 3
   },
   "file_extension": ".py",
   "mimetype": "text/x-python",
   "name": "python",
   "nbconvert_exporter": "python",
   "pygments_lexer": "ipython3",
   "version": "3.7.6"
  }
 },
 "nbformat": 4,
 "nbformat_minor": 4
}
