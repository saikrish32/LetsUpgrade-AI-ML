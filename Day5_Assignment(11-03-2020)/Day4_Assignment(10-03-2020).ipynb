{
 "cells": [
  {
   "cell_type": "markdown",
   "metadata": {},
   "source": [
    "# Question 1 :\n",
    "### Write a Python program to find the first 20 non-even prime natural numbers."
   ]
  },
  {
   "cell_type": "code",
   "execution_count": 5,
   "metadata": {},
   "outputs": [
    {
     "name": "stdout",
     "output_type": "stream",
     "text": [
      "First 20 non-even prime natural numbers are:\n",
      "[3, 7, 13, 19, 29, 37, 43, 53, 61, 71, 79, 89, 101, 107, 113, 131, 139, 151, 163, 173]\n"
     ]
    }
   ],
   "source": [
    "i,result = 2,[]\n",
    "while 1:\n",
    "    prime = 1\n",
    "    for j in range(2,i):\n",
    "        if i%j==0:\n",
    "            prime = 0\n",
    "            break\n",
    "    if prime==1:\n",
    "        result.append(i)\n",
    "    if len(result) == 40:\n",
    "        break\n",
    "    i += 1\n",
    "print(\"First 20 non-even prime natural numbers are:\")\n",
    "print(result[1::2])\n",
    "    "
   ]
  },
  {
   "cell_type": "markdown",
   "metadata": {},
   "source": [
    "# Question 2 :\n",
    "### Write a Python program to implement 15 functions of string."
   ]
  },
  {
   "cell_type": "code",
   "execution_count": 28,
   "metadata": {},
   "outputs": [
    {
     "name": "stdout",
     "output_type": "stream",
     "text": [
      "sai uppercase is :SAI\n",
      "sai lowercase is :sai\n",
      "  sai    strip is :sai\n",
      "remove left space\n",
      "sai   \n",
      "remove right space\n",
      "  sai\n",
      "convert num to string\n",
      "123\n",
      "string concatination\n",
      "sai  sai   \n",
      "combine list to string\n",
      "sai\n",
      "lenght of string sai  is 3\n",
      "Replace a in saikrish with b is sbikrish\n",
      "slice sai between index 1 to its length is ai\n",
      "True\n",
      "False\n",
      "False\n",
      "False\n",
      "True\n"
     ]
    }
   ],
   "source": [
    "string = 'sai'\n",
    "print(\"{} uppercase is :{}\".format(string,string.upper()))\n",
    "print(\"{} lowercase is :{}\".format(string,string.lower()))\n",
    "\n",
    "#Removes both leading spaces\n",
    "s = \"  sai   \"\n",
    "print(\"{} strip is :{}\".format(s,s.strip()))\n",
    "\n",
    "#Removes left leading space\n",
    "print('remove left space')\n",
    "print(s.lstrip())\n",
    "\n",
    "#Removes right leadig space\n",
    "print(\"remove right space\")\n",
    "print(s.rstrip())\n",
    "\n",
    "#convert numeric to string\n",
    "print(\"convert num to string\")\n",
    "print(str(123))\n",
    "\n",
    "#string concatination\n",
    "print(\"string concatination\")\n",
    "print(string + s)\n",
    "\n",
    "#combine list to string\n",
    "print(\"combine list to string\")\n",
    "l = ['s','a','i']\n",
    "print(\"\".join(l))\n",
    "\n",
    "#length of string\n",
    "print(\"lenght of string {}  is {}\".format(string,len(string)))\n",
    "\n",
    "#string replace\n",
    "new1 = \"saikrish\"\n",
    "print(\"Replace a in {} with b is {}\".format(new1,new1.replace('a','b')))\n",
    "\n",
    "#string slicing\n",
    "print(\"slice {} between index 1 to its length is {}\".format(string,string[1:]))\n",
    "\n",
    "#string  boolean functions to check the string\n",
    "print(string.islower())\n",
    "print(string.isupper())\n",
    "print(string.isspace())\n",
    "print(string.isnumeric())\n",
    "print(string.isalnum())"
   ]
  },
  {
   "cell_type": "markdown",
   "metadata": {},
   "source": [
    "# Question 3:\n",
    "### Write a Python program to check if the given string is a Palindrome or Anagram or None of them. Display the message accordingly to the user."
   ]
  },
  {
   "cell_type": "code",
   "execution_count": 29,
   "metadata": {},
   "outputs": [
    {
     "name": "stdout",
     "output_type": "stream",
     "text": [
      "madam\n",
      "madam is pallindrome\n"
     ]
    }
   ],
   "source": [
    "string = input()\n",
    "if string==string[::-1]:\n",
    "    print(\"{} is pallindrome\".format(string))\n",
    "else:\n",
    "    print(\"{} is not pallindrome\".format(string))"
   ]
  },
  {
   "cell_type": "code",
   "execution_count": 34,
   "metadata": {},
   "outputs": [
    {
     "name": "stdout",
     "output_type": "stream",
     "text": [
      "sai\n",
      "ias\n",
      "sai and ias are anagrams\n"
     ]
    }
   ],
   "source": [
    "string1 = input()\n",
    "string2 = input()\n",
    "if sorted(list(string1)) == sorted(list(string2)):\n",
    "    print(\"{} and {} are anagrams\".format(string1,string2))\n",
    "else:\n",
    "    print(\"Not anagram\")"
   ]
  },
  {
   "cell_type": "markdown",
   "metadata": {},
   "source": [
    "# Question 4:\n",
    "### Write a Python's user-defined function that removes all the additional characters from the string and convert it finally to lower case using built-in lower(). eg: If the string is \"Dr. Darshan Ingle @AIML Trainer\", then the output be \"drdarshaningleaimltrainer\"."
   ]
  },
  {
   "cell_type": "code",
   "execution_count": 7,
   "metadata": {},
   "outputs": [
    {
     "name": "stdout",
     "output_type": "stream",
     "text": [
      "Dr. Darshan Ingle @AIML Trainer\n",
      "drdarshaningleaimltrainer"
     ]
    }
   ],
   "source": [
    "string = input().lower()\n",
    "for i in string:\n",
    "    if i.isalpha():\n",
    "        print(i,end=\"\")"
   ]
  },
  {
   "cell_type": "code",
   "execution_count": null,
   "metadata": {},
   "outputs": [],
   "source": []
  }
 ],
 "metadata": {
  "kernelspec": {
   "display_name": "Python 3",
   "language": "python",
   "name": "python3"
  },
  "language_info": {
   "codemirror_mode": {
    "name": "ipython",
    "version": 3
   },
   "file_extension": ".py",
   "mimetype": "text/x-python",
   "name": "python",
   "nbconvert_exporter": "python",
   "pygments_lexer": "ipython3",
   "version": "3.7.6"
  }
 },
 "nbformat": 4,
 "nbformat_minor": 4
}
