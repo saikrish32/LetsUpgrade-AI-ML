{
 "cells": [
  {
   "cell_type": "code",
   "execution_count": 1,
   "metadata": {},
   "outputs": [],
   "source": [
    "import pandas as pd"
   ]
  },
  {
   "cell_type": "code",
   "execution_count": 2,
   "metadata": {},
   "outputs": [],
   "source": [
    "Pat = [5, 4, 4, 3, 9, 4]\n",
    "Jack = [4, 8, 7, 5, 1, 5]\n",
    "Alex = [9, 9, 8, 10, 4, 10]"
   ]
  },
  {
   "cell_type": "code",
   "execution_count": 5,
   "metadata": {},
   "outputs": [],
   "source": [
    "all_scores = Pat + Jack + Alex\n",
    "names = (['Pat'] * len(Pat)) +  (['Jack'] * len(Jack)) +  (['Alex'] * len(Alex))"
   ]
  },
  {
   "cell_type": "code",
   "execution_count": 6,
   "metadata": {},
   "outputs": [],
   "source": [
    "data = pd.DataFrame({'names': names, 'score': all_scores})"
   ]
  },
  {
   "cell_type": "code",
   "execution_count": 8,
   "metadata": {},
   "outputs": [
    {
     "data": {
      "text/html": [
       "<div>\n",
       "<style scoped>\n",
       "    .dataframe tbody tr th:only-of-type {\n",
       "        vertical-align: middle;\n",
       "    }\n",
       "\n",
       "    .dataframe tbody tr th {\n",
       "        vertical-align: top;\n",
       "    }\n",
       "\n",
       "    .dataframe thead th {\n",
       "        text-align: right;\n",
       "    }\n",
       "</style>\n",
       "<table border=\"1\" class=\"dataframe\">\n",
       "  <thead>\n",
       "    <tr style=\"text-align: right;\">\n",
       "      <th></th>\n",
       "      <th>names</th>\n",
       "      <th>score</th>\n",
       "    </tr>\n",
       "  </thead>\n",
       "  <tbody>\n",
       "    <tr>\n",
       "      <th>0</th>\n",
       "      <td>Pat</td>\n",
       "      <td>5</td>\n",
       "    </tr>\n",
       "    <tr>\n",
       "      <th>1</th>\n",
       "      <td>Pat</td>\n",
       "      <td>4</td>\n",
       "    </tr>\n",
       "    <tr>\n",
       "      <th>2</th>\n",
       "      <td>Pat</td>\n",
       "      <td>4</td>\n",
       "    </tr>\n",
       "    <tr>\n",
       "      <th>3</th>\n",
       "      <td>Pat</td>\n",
       "      <td>3</td>\n",
       "    </tr>\n",
       "    <tr>\n",
       "      <th>4</th>\n",
       "      <td>Pat</td>\n",
       "      <td>9</td>\n",
       "    </tr>\n",
       "    <tr>\n",
       "      <th>5</th>\n",
       "      <td>Pat</td>\n",
       "      <td>4</td>\n",
       "    </tr>\n",
       "    <tr>\n",
       "      <th>6</th>\n",
       "      <td>Jack</td>\n",
       "      <td>4</td>\n",
       "    </tr>\n",
       "    <tr>\n",
       "      <th>7</th>\n",
       "      <td>Jack</td>\n",
       "      <td>8</td>\n",
       "    </tr>\n",
       "    <tr>\n",
       "      <th>8</th>\n",
       "      <td>Jack</td>\n",
       "      <td>7</td>\n",
       "    </tr>\n",
       "    <tr>\n",
       "      <th>9</th>\n",
       "      <td>Jack</td>\n",
       "      <td>5</td>\n",
       "    </tr>\n",
       "    <tr>\n",
       "      <th>10</th>\n",
       "      <td>Jack</td>\n",
       "      <td>1</td>\n",
       "    </tr>\n",
       "    <tr>\n",
       "      <th>11</th>\n",
       "      <td>Jack</td>\n",
       "      <td>5</td>\n",
       "    </tr>\n",
       "    <tr>\n",
       "      <th>12</th>\n",
       "      <td>Alex</td>\n",
       "      <td>9</td>\n",
       "    </tr>\n",
       "    <tr>\n",
       "      <th>13</th>\n",
       "      <td>Alex</td>\n",
       "      <td>9</td>\n",
       "    </tr>\n",
       "    <tr>\n",
       "      <th>14</th>\n",
       "      <td>Alex</td>\n",
       "      <td>8</td>\n",
       "    </tr>\n",
       "    <tr>\n",
       "      <th>15</th>\n",
       "      <td>Alex</td>\n",
       "      <td>10</td>\n",
       "    </tr>\n",
       "    <tr>\n",
       "      <th>16</th>\n",
       "      <td>Alex</td>\n",
       "      <td>4</td>\n",
       "    </tr>\n",
       "    <tr>\n",
       "      <th>17</th>\n",
       "      <td>Alex</td>\n",
       "      <td>10</td>\n",
       "    </tr>\n",
       "  </tbody>\n",
       "</table>\n",
       "</div>"
      ],
      "text/plain": [
       "   names  score\n",
       "0    Pat      5\n",
       "1    Pat      4\n",
       "2    Pat      4\n",
       "3    Pat      3\n",
       "4    Pat      9\n",
       "5    Pat      4\n",
       "6   Jack      4\n",
       "7   Jack      8\n",
       "8   Jack      7\n",
       "9   Jack      5\n",
       "10  Jack      1\n",
       "11  Jack      5\n",
       "12  Alex      9\n",
       "13  Alex      9\n",
       "14  Alex      8\n",
       "15  Alex     10\n",
       "16  Alex      4\n",
       "17  Alex     10"
      ]
     },
     "execution_count": 8,
     "metadata": {},
     "output_type": "execute_result"
    }
   ],
   "source": [
    "data"
   ]
  },
  {
   "cell_type": "code",
   "execution_count": 9,
   "metadata": {},
   "outputs": [],
   "source": [
    "import statsmodels.api as sm\n",
    "from statsmodels.formula.api import ols"
   ]
  },
  {
   "cell_type": "code",
   "execution_count": 12,
   "metadata": {},
   "outputs": [
    {
     "name": "stdout",
     "output_type": "stream",
     "text": [
      "            df     sum_sq    mean_sq         F    PR(>F)\n",
      "names      2.0  46.777778  23.388889  4.488273  0.029668\n",
      "Residual  15.0  78.166667   5.211111       NaN       NaN\n"
     ]
    }
   ],
   "source": [
    "lm = ols('score ~ names',data=data).fit()\n",
    "table = sm.stats.anova_lm(lm)\n",
    "print(table)"
   ]
  },
  {
   "cell_type": "code",
   "execution_count": 13,
   "metadata": {},
   "outputs": [
    {
     "data": {
      "text/plain": [
       "6.055555555555555"
      ]
     },
     "execution_count": 13,
     "metadata": {},
     "output_type": "execute_result"
    }
   ],
   "source": [
    "# compute overall mean\n",
    "overall_mean = data['score'].mean()\n",
    "overall_mean"
   ]
  },
  {
   "cell_type": "code",
   "execution_count": 29,
   "metadata": {},
   "outputs": [
    {
     "data": {
      "text/plain": [
       "124.94444444444446"
      ]
     },
     "execution_count": 29,
     "metadata": {},
     "output_type": "execute_result"
    }
   ],
   "source": [
    "# compute Sum of Squares Total\n",
    "data['overall_mean'] = overall_mean\n",
    "ss_total = sum((data['score'] - data['overall_mean'])**2)\n",
    "ss_total"
   ]
  },
  {
   "cell_type": "code",
   "execution_count": 15,
   "metadata": {},
   "outputs": [
    {
     "data": {
      "text/html": [
       "<div>\n",
       "<style scoped>\n",
       "    .dataframe tbody tr th:only-of-type {\n",
       "        vertical-align: middle;\n",
       "    }\n",
       "\n",
       "    .dataframe tbody tr th {\n",
       "        vertical-align: top;\n",
       "    }\n",
       "\n",
       "    .dataframe thead th {\n",
       "        text-align: right;\n",
       "    }\n",
       "</style>\n",
       "<table border=\"1\" class=\"dataframe\">\n",
       "  <thead>\n",
       "    <tr style=\"text-align: right;\">\n",
       "      <th></th>\n",
       "      <th>group_mean</th>\n",
       "      <th>overall_mean</th>\n",
       "    </tr>\n",
       "    <tr>\n",
       "      <th>names</th>\n",
       "      <th></th>\n",
       "      <th></th>\n",
       "    </tr>\n",
       "  </thead>\n",
       "  <tbody>\n",
       "    <tr>\n",
       "      <th>Alex</th>\n",
       "      <td>8.333333</td>\n",
       "      <td>6.055556</td>\n",
       "    </tr>\n",
       "    <tr>\n",
       "      <th>Jack</th>\n",
       "      <td>5.000000</td>\n",
       "      <td>6.055556</td>\n",
       "    </tr>\n",
       "    <tr>\n",
       "      <th>Pat</th>\n",
       "      <td>4.833333</td>\n",
       "      <td>6.055556</td>\n",
       "    </tr>\n",
       "  </tbody>\n",
       "</table>\n",
       "</div>"
      ],
      "text/plain": [
       "       group_mean  overall_mean\n",
       "names                          \n",
       "Alex     8.333333      6.055556\n",
       "Jack     5.000000      6.055556\n",
       "Pat      4.833333      6.055556"
      ]
     },
     "execution_count": 15,
     "metadata": {},
     "output_type": "execute_result"
    }
   ],
   "source": [
    "# compute group means\n",
    "group_means = data.groupby('names').mean()\n",
    "group_means = group_means.rename(columns = {'score': 'group_mean'})\n",
    "group_means"
   ]
  },
  {
   "cell_type": "code",
   "execution_count": 20,
   "metadata": {},
   "outputs": [
    {
     "data": {
      "text/html": [
       "<div>\n",
       "<style scoped>\n",
       "    .dataframe tbody tr th:only-of-type {\n",
       "        vertical-align: middle;\n",
       "    }\n",
       "\n",
       "    .dataframe tbody tr th {\n",
       "        vertical-align: top;\n",
       "    }\n",
       "\n",
       "    .dataframe thead th {\n",
       "        text-align: right;\n",
       "    }\n",
       "</style>\n",
       "<table border=\"1\" class=\"dataframe\">\n",
       "  <thead>\n",
       "    <tr style=\"text-align: right;\">\n",
       "      <th></th>\n",
       "      <th>names</th>\n",
       "      <th>score</th>\n",
       "      <th>overall_mean_x</th>\n",
       "      <th>group_mean_x</th>\n",
       "      <th>overall_mean_y</th>\n",
       "      <th>group_mean_y</th>\n",
       "      <th>overall_mean_x</th>\n",
       "      <th>group_mean</th>\n",
       "      <th>overall_mean_y</th>\n",
       "    </tr>\n",
       "  </thead>\n",
       "  <tbody>\n",
       "    <tr>\n",
       "      <th>0</th>\n",
       "      <td>Pat</td>\n",
       "      <td>5</td>\n",
       "      <td>6.055556</td>\n",
       "      <td>4.833333</td>\n",
       "      <td>6.055556</td>\n",
       "      <td>4.833333</td>\n",
       "      <td>6.055556</td>\n",
       "      <td>4.833333</td>\n",
       "      <td>6.055556</td>\n",
       "    </tr>\n",
       "    <tr>\n",
       "      <th>1</th>\n",
       "      <td>Pat</td>\n",
       "      <td>4</td>\n",
       "      <td>6.055556</td>\n",
       "      <td>4.833333</td>\n",
       "      <td>6.055556</td>\n",
       "      <td>4.833333</td>\n",
       "      <td>6.055556</td>\n",
       "      <td>4.833333</td>\n",
       "      <td>6.055556</td>\n",
       "    </tr>\n",
       "    <tr>\n",
       "      <th>2</th>\n",
       "      <td>Pat</td>\n",
       "      <td>4</td>\n",
       "      <td>6.055556</td>\n",
       "      <td>4.833333</td>\n",
       "      <td>6.055556</td>\n",
       "      <td>4.833333</td>\n",
       "      <td>6.055556</td>\n",
       "      <td>4.833333</td>\n",
       "      <td>6.055556</td>\n",
       "    </tr>\n",
       "    <tr>\n",
       "      <th>3</th>\n",
       "      <td>Pat</td>\n",
       "      <td>3</td>\n",
       "      <td>6.055556</td>\n",
       "      <td>4.833333</td>\n",
       "      <td>6.055556</td>\n",
       "      <td>4.833333</td>\n",
       "      <td>6.055556</td>\n",
       "      <td>4.833333</td>\n",
       "      <td>6.055556</td>\n",
       "    </tr>\n",
       "    <tr>\n",
       "      <th>4</th>\n",
       "      <td>Pat</td>\n",
       "      <td>9</td>\n",
       "      <td>6.055556</td>\n",
       "      <td>4.833333</td>\n",
       "      <td>6.055556</td>\n",
       "      <td>4.833333</td>\n",
       "      <td>6.055556</td>\n",
       "      <td>4.833333</td>\n",
       "      <td>6.055556</td>\n",
       "    </tr>\n",
       "  </tbody>\n",
       "</table>\n",
       "</div>"
      ],
      "text/plain": [
       "  names  score  overall_mean_x  group_mean_x  overall_mean_y  group_mean_y  \\\n",
       "0   Pat      5        6.055556      4.833333        6.055556      4.833333   \n",
       "1   Pat      4        6.055556      4.833333        6.055556      4.833333   \n",
       "2   Pat      4        6.055556      4.833333        6.055556      4.833333   \n",
       "3   Pat      3        6.055556      4.833333        6.055556      4.833333   \n",
       "4   Pat      9        6.055556      4.833333        6.055556      4.833333   \n",
       "\n",
       "   overall_mean_x  group_mean  overall_mean_y  \n",
       "0        6.055556    4.833333        6.055556  \n",
       "1        6.055556    4.833333        6.055556  \n",
       "2        6.055556    4.833333        6.055556  \n",
       "3        6.055556    4.833333        6.055556  \n",
       "4        6.055556    4.833333        6.055556  "
      ]
     },
     "execution_count": 20,
     "metadata": {},
     "output_type": "execute_result"
    }
   ],
   "source": [
    "# add group means and overall mean to the original data frame\n",
    "data = data.merge(group_means, left_on = 'names', right_index = True)\n",
    "data.head()"
   ]
  },
  {
   "cell_type": "code",
   "execution_count": 21,
   "metadata": {},
   "outputs": [
    {
     "data": {
      "text/plain": [
       "Index(['names', 'score', 'overall_mean_x', 'group_mean_x', 'overall_mean_y',\n",
       "       'group_mean_y', 'overall_mean_x', 'group_mean', 'overall_mean_y'],\n",
       "      dtype='object')"
      ]
     },
     "execution_count": 21,
     "metadata": {},
     "output_type": "execute_result"
    }
   ],
   "source": [
    "data.columns"
   ]
  },
  {
   "cell_type": "code",
   "execution_count": 22,
   "metadata": {},
   "outputs": [
    {
     "data": {
      "text/plain": [
       "0     4.833333\n",
       "1     4.833333\n",
       "2     4.833333\n",
       "3     4.833333\n",
       "4     4.833333\n",
       "5     4.833333\n",
       "6     5.000000\n",
       "7     5.000000\n",
       "8     5.000000\n",
       "9     5.000000\n",
       "10    5.000000\n",
       "11    5.000000\n",
       "12    8.333333\n",
       "13    8.333333\n",
       "14    8.333333\n",
       "15    8.333333\n",
       "16    8.333333\n",
       "17    8.333333\n",
       "Name: group_mean, dtype: float64"
      ]
     },
     "execution_count": 22,
     "metadata": {},
     "output_type": "execute_result"
    }
   ],
   "source": [
    "data['group_mean']"
   ]
  },
  {
   "cell_type": "code",
   "execution_count": 23,
   "metadata": {},
   "outputs": [
    {
     "data": {
      "text/plain": [
       "78.16666666666666"
      ]
     },
     "execution_count": 23,
     "metadata": {},
     "output_type": "execute_result"
    }
   ],
   "source": [
    "# compute Sum of Squares Residual\n",
    "ss_residual = sum((data['score'] - data['group_mean'])**2)\n",
    "ss_residual"
   ]
  },
  {
   "cell_type": "code",
   "execution_count": 32,
   "metadata": {},
   "outputs": [
    {
     "data": {
      "text/plain": [
       "46.77777777777779"
      ]
     },
     "execution_count": 32,
     "metadata": {},
     "output_type": "execute_result"
    }
   ],
   "source": [
    "# compute Sum of Squares Model\n",
    "ss_explained = sum((data['overall_mean'] - data['group_mean'])**2)\n",
    "ss_explained"
   ]
  },
  {
   "cell_type": "code",
   "execution_count": 34,
   "metadata": {},
   "outputs": [
    {
     "data": {
      "text/plain": [
       "5.21111111111111"
      ]
     },
     "execution_count": 34,
     "metadata": {},
     "output_type": "execute_result"
    }
   ],
   "source": [
    "# compute Mean Square Residual\n",
    "n_groups = len(set(data['names']))\n",
    "n_obs = data.shape[0]\n",
    "df_residual = n_obs - n_groups\n",
    "ms_residual = ss_residual / df_residual\n",
    "ms_residual"
   ]
  },
  {
   "cell_type": "code",
   "execution_count": 35,
   "metadata": {},
   "outputs": [
    {
     "data": {
      "text/plain": [
       "23.388888888888896"
      ]
     },
     "execution_count": 35,
     "metadata": {},
     "output_type": "execute_result"
    }
   ],
   "source": [
    " #compute Mean Square Explained\n",
    "df_explained = n_groups - 1\n",
    "ms_explained = ss_explained / df_explained\n",
    "ms_explained"
   ]
  },
  {
   "cell_type": "code",
   "execution_count": 36,
   "metadata": {},
   "outputs": [
    {
     "data": {
      "text/plain": [
       "4.488272921108744"
      ]
     },
     "execution_count": 36,
     "metadata": {},
     "output_type": "execute_result"
    }
   ],
   "source": [
    "# compute F-Value\n",
    "f = ms_explained / ms_residual\n",
    "f"
   ]
  },
  {
   "cell_type": "code",
   "execution_count": 37,
   "metadata": {},
   "outputs": [
    {
     "data": {
      "text/plain": [
       "0.029667763955533277"
      ]
     },
     "execution_count": 37,
     "metadata": {},
     "output_type": "execute_result"
    }
   ],
   "source": [
    "# compute p-value\n",
    "import scipy.stats\n",
    "p_value = 1 - scipy.stats.f.cdf(f, df_explained, df_residual)\n",
    "p_value"
   ]
  },
  {
   "cell_type": "markdown",
   "metadata": {},
   "source": [
    "### P-value is less than 0.05 so, the null hypothesis is rejected strongly\n",
    "\n",
    "#### That the means of all population are not equal"
   ]
  },
  {
   "cell_type": "code",
   "execution_count": null,
   "metadata": {},
   "outputs": [],
   "source": []
  },
  {
   "cell_type": "code",
   "execution_count": null,
   "metadata": {},
   "outputs": [],
   "source": []
  },
  {
   "cell_type": "code",
   "execution_count": null,
   "metadata": {},
   "outputs": [],
   "source": []
  },
  {
   "cell_type": "code",
   "execution_count": null,
   "metadata": {},
   "outputs": [],
   "source": []
  }
 ],
 "metadata": {
  "kernelspec": {
   "display_name": "Python 3",
   "language": "python",
   "name": "python3"
  },
  "language_info": {
   "codemirror_mode": {
    "name": "ipython",
    "version": 3
   },
   "file_extension": ".py",
   "mimetype": "text/x-python",
   "name": "python",
   "nbconvert_exporter": "python",
   "pygments_lexer": "ipython3",
   "version": "3.7.6"
  }
 },
 "nbformat": 4,
 "nbformat_minor": 4
}
